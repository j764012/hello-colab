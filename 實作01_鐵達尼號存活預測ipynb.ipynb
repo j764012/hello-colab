{
  "nbformat": 4,
  "nbformat_minor": 0,
  "metadata": {
    "colab": {
      "provenance": [],
      "authorship_tag": "ABX9TyMFWDrVcQEK2TAbh5SeLqXC",
      "include_colab_link": true
    },
    "kernelspec": {
      "name": "python3",
      "display_name": "Python 3"
    },
    "language_info": {
      "name": "python"
    }
  },
  "cells": [
    {
      "cell_type": "markdown",
      "metadata": {
        "id": "view-in-github",
        "colab_type": "text"
      },
      "source": [
        "<a href=\"https://colab.research.google.com/github/j764012/hello-colab/blob/main/%E5%AF%A6%E4%BD%9C01_%E9%90%B5%E9%81%94%E5%B0%BC%E8%99%9F%E5%AD%98%E6%B4%BB%E9%A0%90%E6%B8%ACipynb.ipynb\" target=\"_parent\"><img src=\"https://colab.research.google.com/assets/colab-badge.svg\" alt=\"Open In Colab\"/></a>"
      ]
    },
    {
      "cell_type": "markdown",
      "source": [
        "# 實作01:鐵達尼號存活預測"
      ],
      "metadata": {
        "id": "HW_WgOYzFhen"
      }
    },
    {
      "cell_type": "code",
      "source": [
        "print('Hello colab')"
      ],
      "metadata": {
        "id": "rvpXrn4KFowg"
      },
      "execution_count": null,
      "outputs": []
    }
  ]
}